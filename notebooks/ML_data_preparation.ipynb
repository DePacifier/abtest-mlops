{
 "cells": [
  {
   "cell_type": "markdown",
   "source": [
    "# ML Modelling"
   ],
   "metadata": {}
  },
  {
   "cell_type": "code",
   "execution_count": 1,
   "source": [
    "#Importing Libraries\r\n",
    "import sys\r\n",
    "import os\r\n",
    "import dvc.api\r\n",
    "import numpy as np\r\n",
    "import pandas as pd"
   ],
   "outputs": [],
   "metadata": {}
  },
  {
   "cell_type": "code",
   "execution_count": 2,
   "source": [
    "#importing local scripts\r\n",
    "sys.path.append(os.path.abspath(os.path.join('..')))\r\n",
    "#Adding scripts path\r\n",
    "#importing data_manipulator script\r\n",
    "from scripts.ML_modelling_utils import get_index_based_on_size, get_df_of_each_group"
   ],
   "outputs": [],
   "metadata": {}
  },
  {
   "cell_type": "markdown",
   "source": [
    "## Loading Data"
   ],
   "metadata": {}
  },
  {
   "cell_type": "code",
   "execution_count": 3,
   "source": [
    "#Importing the collected Data\r\n",
    "path = 'data/Clean_AdSmartABdata.csv'\r\n",
    "repo = 'https://github.com/DePacifier/abtest-mlops'\r\n",
    "rev = 'v2'\r\n",
    "data_url = dvc.api.get_url(path=path, repo=repo, rev=rev)\r\n",
    "collected_data = pd.read_csv(data_url)"
   ],
   "outputs": [
    {
     "output_type": "execute_result",
     "data": {
      "text/plain": [
       "                             auction_id experiment        date  hour  \\\n",
       "0  61205ee2-023b-4eab-bf13-c20c90fd3aa2    exposed  2020-07-10     4   \n",
       "1  4089f5e5-fde0-422f-b147-5fc5903cdef8    control  2020-07-10    10   \n",
       "2  378645d2-f8cf-43c0-b1be-e699d846e596    control  2020-07-04     6   \n",
       "3  ef334830-f200-4c1b-aea2-b01b96ca0950    exposed  2020-07-03    12   \n",
       "4  bc2e2abf-50d9-4c83-898c-405f60c2924c    exposed  2020-07-10     0   \n",
       "\n",
       "          device_make  platform_os                browser  response  \n",
       "0    Samsung SM-G930F            6  Chrome Mobile WebView         1  \n",
       "1               G3311            6               Facebook         0  \n",
       "2  Generic Smartphone            6          Chrome Mobile         0  \n",
       "3  Generic Smartphone            6          Chrome Mobile         0  \n",
       "4    Samsung SM-A202F            6  Chrome Mobile WebView         1  "
      ],
      "text/html": [
       "<div>\n",
       "<style scoped>\n",
       "    .dataframe tbody tr th:only-of-type {\n",
       "        vertical-align: middle;\n",
       "    }\n",
       "\n",
       "    .dataframe tbody tr th {\n",
       "        vertical-align: top;\n",
       "    }\n",
       "\n",
       "    .dataframe thead th {\n",
       "        text-align: right;\n",
       "    }\n",
       "</style>\n",
       "<table border=\"1\" class=\"dataframe\">\n",
       "  <thead>\n",
       "    <tr style=\"text-align: right;\">\n",
       "      <th></th>\n",
       "      <th>auction_id</th>\n",
       "      <th>experiment</th>\n",
       "      <th>date</th>\n",
       "      <th>hour</th>\n",
       "      <th>device_make</th>\n",
       "      <th>platform_os</th>\n",
       "      <th>browser</th>\n",
       "      <th>response</th>\n",
       "    </tr>\n",
       "  </thead>\n",
       "  <tbody>\n",
       "    <tr>\n",
       "      <th>0</th>\n",
       "      <td>61205ee2-023b-4eab-bf13-c20c90fd3aa2</td>\n",
       "      <td>exposed</td>\n",
       "      <td>2020-07-10</td>\n",
       "      <td>4</td>\n",
       "      <td>Samsung SM-G930F</td>\n",
       "      <td>6</td>\n",
       "      <td>Chrome Mobile WebView</td>\n",
       "      <td>1</td>\n",
       "    </tr>\n",
       "    <tr>\n",
       "      <th>1</th>\n",
       "      <td>4089f5e5-fde0-422f-b147-5fc5903cdef8</td>\n",
       "      <td>control</td>\n",
       "      <td>2020-07-10</td>\n",
       "      <td>10</td>\n",
       "      <td>G3311</td>\n",
       "      <td>6</td>\n",
       "      <td>Facebook</td>\n",
       "      <td>0</td>\n",
       "    </tr>\n",
       "    <tr>\n",
       "      <th>2</th>\n",
       "      <td>378645d2-f8cf-43c0-b1be-e699d846e596</td>\n",
       "      <td>control</td>\n",
       "      <td>2020-07-04</td>\n",
       "      <td>6</td>\n",
       "      <td>Generic Smartphone</td>\n",
       "      <td>6</td>\n",
       "      <td>Chrome Mobile</td>\n",
       "      <td>0</td>\n",
       "    </tr>\n",
       "    <tr>\n",
       "      <th>3</th>\n",
       "      <td>ef334830-f200-4c1b-aea2-b01b96ca0950</td>\n",
       "      <td>exposed</td>\n",
       "      <td>2020-07-03</td>\n",
       "      <td>12</td>\n",
       "      <td>Generic Smartphone</td>\n",
       "      <td>6</td>\n",
       "      <td>Chrome Mobile</td>\n",
       "      <td>0</td>\n",
       "    </tr>\n",
       "    <tr>\n",
       "      <th>4</th>\n",
       "      <td>bc2e2abf-50d9-4c83-898c-405f60c2924c</td>\n",
       "      <td>exposed</td>\n",
       "      <td>2020-07-10</td>\n",
       "      <td>0</td>\n",
       "      <td>Samsung SM-A202F</td>\n",
       "      <td>6</td>\n",
       "      <td>Chrome Mobile WebView</td>\n",
       "      <td>1</td>\n",
       "    </tr>\n",
       "  </tbody>\n",
       "</table>\n",
       "</div>"
      ]
     },
     "metadata": {},
     "execution_count": 3
    }
   ],
   "metadata": {}
  },
  {
   "cell_type": "code",
   "execution_count": 4,
   "source": [
    "collected_data.head(5)"
   ],
   "outputs": [
    {
     "output_type": "execute_result",
     "data": {
      "text/plain": [
       "                             auction_id experiment        date  hour  \\\n",
       "0  61205ee2-023b-4eab-bf13-c20c90fd3aa2    exposed  2020-07-10     4   \n",
       "1  4089f5e5-fde0-422f-b147-5fc5903cdef8    control  2020-07-10    10   \n",
       "2  378645d2-f8cf-43c0-b1be-e699d846e596    control  2020-07-04     6   \n",
       "3  ef334830-f200-4c1b-aea2-b01b96ca0950    exposed  2020-07-03    12   \n",
       "4  bc2e2abf-50d9-4c83-898c-405f60c2924c    exposed  2020-07-10     0   \n",
       "\n",
       "          device_make  platform_os                browser  response  \n",
       "0    Samsung SM-G930F            6  Chrome Mobile WebView         1  \n",
       "1               G3311            6               Facebook         0  \n",
       "2  Generic Smartphone            6          Chrome Mobile         0  \n",
       "3  Generic Smartphone            6          Chrome Mobile         0  \n",
       "4    Samsung SM-A202F            6  Chrome Mobile WebView         1  "
      ],
      "text/html": [
       "<div>\n",
       "<style scoped>\n",
       "    .dataframe tbody tr th:only-of-type {\n",
       "        vertical-align: middle;\n",
       "    }\n",
       "\n",
       "    .dataframe tbody tr th {\n",
       "        vertical-align: top;\n",
       "    }\n",
       "\n",
       "    .dataframe thead th {\n",
       "        text-align: right;\n",
       "    }\n",
       "</style>\n",
       "<table border=\"1\" class=\"dataframe\">\n",
       "  <thead>\n",
       "    <tr style=\"text-align: right;\">\n",
       "      <th></th>\n",
       "      <th>auction_id</th>\n",
       "      <th>experiment</th>\n",
       "      <th>date</th>\n",
       "      <th>hour</th>\n",
       "      <th>device_make</th>\n",
       "      <th>platform_os</th>\n",
       "      <th>browser</th>\n",
       "      <th>response</th>\n",
       "    </tr>\n",
       "  </thead>\n",
       "  <tbody>\n",
       "    <tr>\n",
       "      <th>0</th>\n",
       "      <td>61205ee2-023b-4eab-bf13-c20c90fd3aa2</td>\n",
       "      <td>exposed</td>\n",
       "      <td>2020-07-10</td>\n",
       "      <td>4</td>\n",
       "      <td>Samsung SM-G930F</td>\n",
       "      <td>6</td>\n",
       "      <td>Chrome Mobile WebView</td>\n",
       "      <td>1</td>\n",
       "    </tr>\n",
       "    <tr>\n",
       "      <th>1</th>\n",
       "      <td>4089f5e5-fde0-422f-b147-5fc5903cdef8</td>\n",
       "      <td>control</td>\n",
       "      <td>2020-07-10</td>\n",
       "      <td>10</td>\n",
       "      <td>G3311</td>\n",
       "      <td>6</td>\n",
       "      <td>Facebook</td>\n",
       "      <td>0</td>\n",
       "    </tr>\n",
       "    <tr>\n",
       "      <th>2</th>\n",
       "      <td>378645d2-f8cf-43c0-b1be-e699d846e596</td>\n",
       "      <td>control</td>\n",
       "      <td>2020-07-04</td>\n",
       "      <td>6</td>\n",
       "      <td>Generic Smartphone</td>\n",
       "      <td>6</td>\n",
       "      <td>Chrome Mobile</td>\n",
       "      <td>0</td>\n",
       "    </tr>\n",
       "    <tr>\n",
       "      <th>3</th>\n",
       "      <td>ef334830-f200-4c1b-aea2-b01b96ca0950</td>\n",
       "      <td>exposed</td>\n",
       "      <td>2020-07-03</td>\n",
       "      <td>12</td>\n",
       "      <td>Generic Smartphone</td>\n",
       "      <td>6</td>\n",
       "      <td>Chrome Mobile</td>\n",
       "      <td>0</td>\n",
       "    </tr>\n",
       "    <tr>\n",
       "      <th>4</th>\n",
       "      <td>bc2e2abf-50d9-4c83-898c-405f60c2924c</td>\n",
       "      <td>exposed</td>\n",
       "      <td>2020-07-10</td>\n",
       "      <td>0</td>\n",
       "      <td>Samsung SM-A202F</td>\n",
       "      <td>6</td>\n",
       "      <td>Chrome Mobile WebView</td>\n",
       "      <td>1</td>\n",
       "    </tr>\n",
       "  </tbody>\n",
       "</table>\n",
       "</div>"
      ]
     },
     "metadata": {},
     "execution_count": 4
    }
   ],
   "metadata": {}
  },
  {
   "cell_type": "markdown",
   "source": [
    "## Split data by browser and platform_os, and version each split as a new version of the data in dvc."
   ],
   "metadata": {}
  },
  {
   "cell_type": "code",
   "execution_count": 5,
   "source": [
    "### Spliting based on Browser\r\n",
    "browser = collected_data.groupby('browser')\r\n",
    "browser_size = browser.size()\r\n",
    "browser_size"
   ],
   "outputs": [
    {
     "output_type": "execute_result",
     "data": {
      "text/plain": [
       "browser\n",
       "Chrome                          2\n",
       "Chrome Mobile                 695\n",
       "Chrome Mobile WebView         227\n",
       "Chrome Mobile iOS               1\n",
       "Facebook                      156\n",
       "Mobile Safari                  14\n",
       "Mobile Safari UI/WKWebView      3\n",
       "Samsung Internet              145\n",
       "dtype: int64"
      ]
     },
     "metadata": {},
     "execution_count": 5
    }
   ],
   "metadata": {}
  },
  {
   "cell_type": "code",
   "execution_count": 7,
   "source": [
    "#identifying model training worth data\r\n",
    "test_worthy_browser_list = get_index_based_on_size(browser_size.values, 100)\r\n",
    "browser_dfs = get_df_of_each_group(browser, test_worthy_browser_list)\r\n",
    "len(browser_dfs)"
   ],
   "outputs": [
    {
     "output_type": "execute_result",
     "data": {
      "text/plain": [
       "4"
      ]
     },
     "metadata": {},
     "execution_count": 7
    }
   ],
   "metadata": {}
  },
  {
   "cell_type": "code",
   "execution_count": 8,
   "source": [
    "### Spliting based on Platform Os\r\n",
    "platform = collected_data.groupby('platform_os')\r\n",
    "platform_size = platform.size()\r\n",
    "platform_size"
   ],
   "outputs": [
    {
     "output_type": "execute_result",
     "data": {
      "text/plain": [
       "platform_os\n",
       "5      17\n",
       "6    1226\n",
       "dtype: int64"
      ]
     },
     "metadata": {},
     "execution_count": 8
    }
   ],
   "metadata": {}
  },
  {
   "cell_type": "code",
   "execution_count": 9,
   "source": [
    "#identifying model training worth data\r\n",
    "test_worthy_platform_list = get_index_based_on_size(platform_size.values, 100)\r\n",
    "platform_dfs = get_df_of_each_group(platform, test_worthy_platform_list)\r\n",
    "len(platform_dfs)"
   ],
   "outputs": [
    {
     "output_type": "execute_result",
     "data": {
      "text/plain": [
       "1"
      ]
     },
     "metadata": {},
     "execution_count": 9
    }
   ],
   "metadata": {}
  },
  {
   "cell_type": "code",
   "execution_count": 10,
   "source": [
    "# Saving Each New Version and Adding it to DVC\r\n",
    "# Browser Versions\r\n",
    "browser_dfs[0].to_csv('../data/AdSmartABdata.csv', index=False)\r\n",
    "# Add to dvc with a new tag \"the name\" => \"chrome-mobile\"\r\n",
    "browser_dfs[1].to_csv('../data/AdSmartABdata.csv', index=False)\r\n",
    "# Add to dvc with a new tag \"the name\" => \"chrome-mobile-view\"\r\n",
    "browser_dfs[2].to_csv('../data/AdSmartABdata.csv', index=False)\r\n",
    "# Add to dvc with a new tag \"the name\" => \"facebook\"\r\n",
    "browser_dfs[3].to_csv('../data/AdSmartABdata.csv', index=False)\r\n",
    "# Add to dvc with a new tag \"the name\" => \"samsung-internet\"\r\n"
   ],
   "outputs": [],
   "metadata": {}
  },
  {
   "cell_type": "code",
   "execution_count": 12,
   "source": [
    "# Saving Each New Version and Adding it to DVC\r\n",
    "# platform Versions\r\n",
    "platform_dfs[0].to_csv('../data/AdSmartABdata.csv', index=False)\r\n",
    "# Add to dvc with a new tag \"the name\" => \"platform-6\"\r\n"
   ],
   "outputs": [],
   "metadata": {}
  },
  {
   "cell_type": "code",
   "execution_count": null,
   "source": [],
   "outputs": [],
   "metadata": {}
  }
 ],
 "metadata": {
  "orig_nbformat": 4,
  "language_info": {
   "name": "python",
   "version": "3.8.4",
   "mimetype": "text/x-python",
   "codemirror_mode": {
    "name": "ipython",
    "version": 3
   },
   "pygments_lexer": "ipython3",
   "nbconvert_exporter": "python",
   "file_extension": ".py"
  },
  "kernelspec": {
   "name": "python3",
   "display_name": "Python 3.8.4 64-bit"
  },
  "interpreter": {
   "hash": "2db524e06e9f5f4ffedc911c917cb75e12dbc923643829bf417064a77eb14d37"
  }
 },
 "nbformat": 4,
 "nbformat_minor": 2
}